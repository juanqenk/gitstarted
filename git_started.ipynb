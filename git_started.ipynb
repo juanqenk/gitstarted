{
 "cells": [
  {
   "cell_type": "markdown",
   "metadata": {},
   "source": [
    "# Git started\n",
    "## Manual sencillo de git para viajeros en el tiempo\n",
    "#### by [@juan_qenk](https://twitter.com/juan_qenk)\n",
    "----------------------------------------------------------------------------------------------------------\n",
    "\n",
    "   \n",
    "Imaginad que recibimos una invitación de Stephen Hawking para una fiesta que se celebró en Cambridge el 28 de junio de 2009. No se ha perdido la invitación en el correo, se mandó a proposito una vez finalizada la fiesta. La fiesta a la cual habeis sido invitados es una fiesta para viajeros en el tiempo.   \n",
    "\n",
    "Me parece una falta de respeto no pasar siquiera a saludar. Los buenos modales no son algo que el tejido espacio-tiempo deban coartar. Dispongo de lo necesario para esta breve historia del tiempo: linux, conocimiento inicial en python y atuendo de la época.    \n",
    "\n",
    "Para el desarrollo de un software de tal calibre es necesario trabajar con un sistema de control de versiones. Git es el más usado en la actualidad, ideal para el viajero en el tiempo. Es posible que tu equipo lo tenga instalado, pero si no es así, puedes usar los siguientes comandos:"
   ]
  },
  {
   "cell_type": "markdown",
   "metadata": {
    "collapsed": true
   },
   "source": [
    "    En Debian/Ubuntu y derivados:\n",
    "    sudo apt-get install git\n",
    "\n",
    "    En Fedora y derivados:\n",
    "    sudo yum install git\n",
    "\n",
    "    En Arch y derivados:\n",
    "    sudo pacman -S git"
   ]
  },
  {
   "cell_type": "markdown",
   "metadata": {},
   "source": [
    "Una vez instalado, estas son las versiones con las que vamos a viajar."
   ]
  },
  {
   "cell_type": "code",
   "execution_count": 2,
   "metadata": {},
   "outputs": [
    {
     "name": "stdout",
     "output_type": "stream",
     "text": [
      "git version 2.11.0\n",
      "GNU bash, versión 4.4.7(1)-release (x86_64-pc-linux-gnu)\n",
      "Copyright (C) 2016 Free Software Foundation, Inc.\n",
      "Licencia GPLv3+: GPL de GNU versión 3 o posterior <http://gnu.org/licenses/gpl.html>\n",
      "\n",
      "Esto es software libre; siéntase libre para cambiarlo y redistribuirlo.\n",
      "No existe NINGUNA GARANTÍA, en la medida permitida por la ley.\n"
     ]
    }
   ],
   "source": [
    "git --version\n",
    "bash --version"
   ]
  },
  {
   "cell_type": "markdown",
   "metadata": {},
   "source": [
    "Yo ya os he presentado git, pero él también quiere conoceros. No olvidéis completar la configuración inicial de git con vuestro nombre de usuario e email. "
   ]
  },
  {
   "cell_type": "markdown",
   "metadata": {
    "collapsed": true
   },
   "source": [
    "    git config --global user.name viajerotemporal\n",
    "    git config --global user.email viajerotemporal@ejemplo.com\n",
    "\n",
    "Podeis comprobar vuestras credenciales escribiendo: \n",
    "\n",
    "    git config --list\n",
    "    \n",
    "Si en algún momento os asalta una duda, no dudéis en consultar la guía del autoestopista del tiempo\n",
    "\n",
    "    man git"
   ]
  },
  {
   "cell_type": "markdown",
   "metadata": {},
   "source": [
    "Es este un buen momento para crear vuestro entorno de trabajo. Es peligroso eso de ir programando viajes temporales sin orden, corremos el riesgo de equivocarnos y acabar como brasas en una barbacoa medieval. Hemos llamado gitstarted a nuestro directorio de trabajo, de momento vacío. No por mucho tiempo. "
   ]
  },
  {
   "cell_type": "code",
   "execution_count": 5,
   "metadata": {
    "collapsed": true
   },
   "outputs": [],
   "source": [
    "mkdir gitstarted\n",
    "cd gitstarted\n",
    "pwd"
   ]
  },
  {
   "cell_type": "markdown",
   "metadata": {},
   "source": [
    "Nuestro directorio de trabajo necesita algo de contenido, se siente solo. Cualquier proyecto que pretenda hacerle twerking a las leyes de la física debe estar organizado al detalle y los dos archivos que más nos ayudarán a acotar y definir el uso son README.md y licence.txt.    \n",
    "\n",
    "Podemos ir rellenando el README sobre la marcha:"
   ]
  },
  {
   "cell_type": "code",
   "execution_count": 7,
   "metadata": {
    "collapsed": true
   },
   "outputs": [],
   "source": [
    "echo '# git started  ' > README.md"
   ]
  },
  {
   "cell_type": "code",
   "execution_count": 8,
   "metadata": {
    "collapsed": true,
    "scrolled": true
   },
   "outputs": [],
   "source": [
    "echo '## Manual para impacientes  ' >> README.md\n",
    "echo '- Instalación en linux  ' >> README.md\n",
    "echo '- Configuración inicial  ' >> README.md"
   ]
  },
  {
   "cell_type": "markdown",
   "metadata": {},
   "source": [
    "Hasta el momento hemos conseguido completar los primeros pasos de la descripción de nuestro programa. "
   ]
  },
  {
   "cell_type": "code",
   "execution_count": 9,
   "metadata": {},
   "outputs": [
    {
     "name": "stdout",
     "output_type": "stream",
     "text": [
      "# git started  \n",
      "## Manual para impacientes  \n",
      "- Instalación en linux  \n",
      "- Configuración inicial  \n"
     ]
    }
   ],
   "source": [
    "cat README.md"
   ]
  },
  {
   "cell_type": "markdown",
   "metadata": {},
   "source": [
    "En el caso de que tengamos todos los puntos claros y sepamos como vamos a recomendar la instalación, es más fácil hacerlo con nuestro editor de textos de confianza, aquel a quién confiamos nuestros secretos más turbios, por quién lanzamos flames, el cual nos convierte en trols. O cualquier otro en su defecto, como"
   ]
  },
  {
   "cell_type": "code",
   "execution_count": 2,
   "metadata": {
    "collapsed": true
   },
   "outputs": [],
   "source": [
    "gedit"
   ]
  },
  {
   "cell_type": "markdown",
   "metadata": {},
   "source": [
    "De la elección de la licencia no hablaré hoy. Un asunto tan importante merece su propio espacio. Siendo conciso y en concreto; el viaje en el tiempo es libre o no es.   \n",
    "\n",
    "Por último, no olvidéis ni compatáis el pasaporte. Los documentos personales es bueno llevarlos siempre sin mostrarlos mucho. Evitaremos ser suplantados por androides. "
   ]
  },
  {
   "cell_type": "code",
   "execution_count": 15,
   "metadata": {},
   "outputs": [
    {
     "name": "stdout",
     "output_type": "stream",
     "text": [
      "\u001b[0m\u001b[01;34m.\u001b[0m  \u001b[01;34m..\u001b[0m  .info_privada.txt  README.md\n"
     ]
    }
   ],
   "source": [
    "touch .info_privada.txt\n",
    "ls -a"
   ]
  },
  {
   "cell_type": "markdown",
   "metadata": {},
   "source": [
    "Tenemos el entorno anhelando contenido, es el momento de inyectarle un poco de git. Al hacerlo habremos ganado control sobre el desarrollo de nuestros programas.   \n",
    "\n",
    "Trabajando con git guardamos los cambios que vamos haciendo de tal forma que nos resultará más fácil volver a una versión anterior. En ese sentido, lleva algo de viaje en el tiempo implícito. En adelante podremos crear ramas para añadir o modificar características sin que estos cambios estropeen el programa principal. "
   ]
  },
  {
   "cell_type": "code",
   "execution_count": 16,
   "metadata": {},
   "outputs": [
    {
     "name": "stdout",
     "output_type": "stream",
     "text": [
      "Initialized empty Git repository in /home/juan/programacion/gitstarted/.git/\n"
     ]
    }
   ],
   "source": [
    "git init "
   ]
  },
  {
   "cell_type": "markdown",
   "metadata": {},
   "source": [
    "Hemos iniciado git en nuestro directorio de trabajo con éxito. Ahora podemos comprobar que se ha creado una carpeta oculta donde se irán guardando los cambios que hagamos. "
   ]
  },
  {
   "cell_type": "code",
   "execution_count": 18,
   "metadata": {},
   "outputs": [
    {
     "name": "stdout",
     "output_type": "stream",
     "text": [
      "/home/juan/programacion/gitstarted\n",
      "\u001b[0m\u001b[01;34m.\u001b[0m  \u001b[01;34m..\u001b[0m  \u001b[01;34m.git\u001b[0m  .info_privada.txt  README.md\n"
     ]
    }
   ],
   "source": [
    "pwd\n",
    "ls -a"
   ]
  },
  {
   "cell_type": "markdown",
   "metadata": {},
   "source": [
    "El arbol de directorios y archivos puede quedar como se muestra a continuación. Podéis instalar el programa tree fácilmente haciendo\n",
    "\n",
    "    sudo apt install tree"
   ]
  },
  {
   "cell_type": "code",
   "execution_count": 7,
   "metadata": {},
   "outputs": [
    {
     "name": "stdout",
     "output_type": "stream",
     "text": [
      "\u001b[01;34m.\u001b[00m\n",
      "├── \u001b[01;34m.git\u001b[00m\n",
      "│   ├── \u001b[01;34mbranches\u001b[00m\n",
      "│   ├── COMMIT_EDITMSG\n",
      "│   ├── config\n",
      "│   ├── description\n",
      "│   ├── HEAD\n",
      "│   ├── \u001b[01;34mhooks\u001b[00m\n",
      "│   │   ├── \u001b[01;32mapplypatch-msg.sample\u001b[00m\n",
      "│   │   ├── \u001b[01;32mcommit-msg.sample\u001b[00m\n",
      "│   │   ├── \u001b[01;32mpost-update.sample\u001b[00m\n",
      "│   │   ├── \u001b[01;32mpre-applypatch.sample\u001b[00m\n",
      "│   │   ├── \u001b[01;32mpre-commit.sample\u001b[00m\n",
      "│   │   ├── \u001b[01;32mprepare-commit-msg.sample\u001b[00m\n",
      "│   │   ├── \u001b[01;32mpre-push.sample\u001b[00m\n",
      "│   │   ├── \u001b[01;32mpre-rebase.sample\u001b[00m\n",
      "│   │   ├── \u001b[01;32mpre-receive.sample\u001b[00m\n",
      "│   │   └── \u001b[01;32mupdate.sample\u001b[00m\n",
      "│   ├── index\n",
      "│   ├── \u001b[01;34minfo\u001b[00m\n",
      "│   │   └── exclude\n",
      "│   ├── \u001b[01;34mlogs\u001b[00m\n",
      "│   │   ├── HEAD\n",
      "│   │   └── \u001b[01;34mrefs\u001b[00m\n",
      "│   │       ├── \u001b[01;34mheads\u001b[00m\n",
      "│   │       │   └── master\n",
      "│   │       └── \u001b[01;34mremotes\u001b[00m\n",
      "│   │           └── \u001b[01;34morigin\u001b[00m\n",
      "│   │               └── master\n",
      "│   ├── \u001b[01;34mobjects\u001b[00m\n",
      "│   │   ├── \u001b[01;34m29\u001b[00m\n",
      "│   │   │   └── 5d0861eed0e12a60b2e76c3220dbb298070acd\n",
      "│   │   ├── \u001b[01;34m39\u001b[00m\n",
      "│   │   │   └── 96b293e8e32d5731d7e412d3a9a98b3f5df87c\n",
      "│   │   ├── \u001b[01;34m40\u001b[00m\n",
      "│   │   │   └── 8bf37c701d3a01e1513b70aef138991208eb04\n",
      "│   │   ├── \u001b[01;34m69\u001b[00m\n",
      "│   │   │   └── 9fd9aa7c7782ebff9c325393189fc5e14bb54f\n",
      "│   │   ├── \u001b[01;34m79\u001b[00m\n",
      "│   │   │   └── 7e56370f41dacbd57c6e72977bd6a094ee3579\n",
      "│   │   ├── \u001b[01;34m99\u001b[00m\n",
      "│   │   │   └── b1f9b9078d09082b85aa9ede09bc8c94871d6f\n",
      "│   │   ├── \u001b[01;34mbf\u001b[00m\n",
      "│   │   │   └── 05565dfddb0a9b0cfcbf40431857d1cfdce43b\n",
      "│   │   ├── \u001b[01;34mde\u001b[00m\n",
      "│   │   │   └── 0dc53113f8f52a3b70f52784690919feb3717b\n",
      "│   │   ├── \u001b[01;34mf1\u001b[00m\n",
      "│   │   │   └── 409692383b6682c23427819c560c380ca81885\n",
      "│   │   ├── \u001b[01;34mfd\u001b[00m\n",
      "│   │   │   └── 1cbb9fbec700705952b7bf06604158bb7d2222\n",
      "│   │   ├── \u001b[01;34minfo\u001b[00m\n",
      "│   │   └── \u001b[01;34mpack\u001b[00m\n",
      "│   ├── ORIG_HEAD\n",
      "│   └── \u001b[01;34mrefs\u001b[00m\n",
      "│       ├── \u001b[01;34mheads\u001b[00m\n",
      "│       │   └── master\n",
      "│       ├── \u001b[01;34mremotes\u001b[00m\n",
      "│       │   └── \u001b[01;34morigin\u001b[00m\n",
      "│       │       └── master\n",
      "│       └── \u001b[01;34mtags\u001b[00m\n",
      "├── .gitignore\n",
      "├── hola.py\n",
      "├── .info_privada.txt\n",
      "└── README.md\n",
      "\n",
      "27 directories, 36 files\n"
     ]
    }
   ],
   "source": [
    "tree -a"
   ]
  },
  {
   "cell_type": "markdown",
   "metadata": {},
   "source": [
    "Recordad que tenemos información privada en nuestro directorio de traqbajo. Git entenderá que forma parte del código y, si estamos subiendo los cambios en un servidor remoto como github, los hará públicos. No queremos que así sea. Para evitarlo solo tenemos que crear un archivo .gitignore y añadir lineas con los archivos o carpetas que queremos que sean ignorados por git. "
   ]
  },
  {
   "cell_type": "code",
   "execution_count": 21,
   "metadata": {
    "collapsed": true
   },
   "outputs": [],
   "source": [
    "echo '.info_privada.txt' > .gitignore"
   ]
  },
  {
   "cell_type": "markdown",
   "metadata": {},
   "source": [
    "Nos hemos tomado un poco más tiempo del habitual preparando el entorno de trabajo pero nos ayudará a tener un codigo organizado y accesible. Además, que importa dedicar unos minutos extra cuando pretendemos crear una máquina del tiempo que nos permitirá viajar al pasado.    \n",
    "\n",
    "Trabajar con git es trabajar en tres espacios virtuales: el directorio de trabajo, el stage(index) y history o repository. Haremos cambios de nuestro código en el directorio de trabajo. Estos cambios los añadiremos al stage (git add) donde irán reuniéndose. Una vez queramos guardar esos cambios, los pasamos a history añadiendo un comentario (git commit)\n",
    "\n",
    "    Nota: git status es un comando útil de git que nos dirá el estado de este flujo de trabajo en un momento concreto. "
   ]
  },
  {
   "cell_type": "code",
   "execution_count": 23,
   "metadata": {
    "collapsed": true
   },
   "outputs": [],
   "source": [
    "git add ."
   ]
  },
  {
   "cell_type": "markdown",
   "metadata": {},
   "source": [
    "Así hemos añadido todos los archivos al stage. Podemos comprobar qué archivos hemos añadido con el siguiente comando:"
   ]
  },
  {
   "cell_type": "code",
   "execution_count": 24,
   "metadata": {},
   "outputs": [
    {
     "name": "stdout",
     "output_type": "stream",
     "text": [
      "En la rama master\n",
      "\n",
      "Commit inicial\n",
      "\n",
      "Cambios para hacer commit:\n",
      "  (use «git rm --cached <archivo>...» para sacar del stage)\n",
      "\n",
      "\t\u001b[32mnuevo archivo: .gitignore\u001b[m\n",
      "\t\u001b[32mnuevo archivo: README.md\u001b[m\n",
      "\n"
     ]
    }
   ],
   "source": [
    "git status"
   ]
  },
  {
   "cell_type": "markdown",
   "metadata": {},
   "source": [
    "Hagamos ahora, como sugiere git status, un commit. Al hacerlo pasarmos estos cambios al history, donde estarán acompañados por una referencia y un comentario. "
   ]
  },
  {
   "cell_type": "code",
   "execution_count": 25,
   "metadata": {},
   "outputs": [
    {
     "name": "stdout",
     "output_type": "stream",
     "text": [
      "[master (root-commit) 295d086] Commit inicial. Añadido el READNE.md\n",
      " 2 files changed, 5 insertions(+)\n",
      " create mode 100644 .gitignore\n",
      " create mode 100644 README.md\n"
     ]
    }
   ],
   "source": [
    "git commit -m 'Commit inicial. Añadidos los primeros archivos'"
   ]
  },
  {
   "cell_type": "code",
   "execution_count": 26,
   "metadata": {},
   "outputs": [
    {
     "name": "stdout",
     "output_type": "stream",
     "text": [
      "En la rama master\n",
      "nothing to commit, working tree clean\n"
     ]
    }
   ],
   "source": [
    "git status"
   ]
  },
  {
   "cell_type": "markdown",
   "metadata": {},
   "source": [
    "Los cambios hechos en este sentido se pueden revertir sin peligro en el otro sentido. La tres áreas estan conectadas por carriles de dos sentidos; circulad sin miedo.    \n",
    "\n",
    "Permitidme añadir un área nueva. Hasta el momento habéis trabajado en vuestro ordenador, en local. Es recomendable guardar una copia en un repositorio remoto. Podéis mandar los cambios incluso a la nube pero vamos a hacerlo con github.   \n",
    "\n",
    "Para ello debemos crear antes el repositorio en nuestra cuenta de github. Una vez creado, podemos añadir la dirección del repositorio remoto a la lista de repositorios de git."
   ]
  },
  {
   "cell_type": "code",
   "execution_count": 27,
   "metadata": {
    "collapsed": true
   },
   "outputs": [],
   "source": [
    "git remote add origin https://github.com/juanqenk/gitstarted.git"
   ]
  },
  {
   "cell_type": "markdown",
   "metadata": {},
   "source": [
    "Podemos listar los repositorios remotos, donde aparece el que hemos llamado origin:"
   ]
  },
  {
   "cell_type": "code",
   "execution_count": 28,
   "metadata": {},
   "outputs": [
    {
     "name": "stdout",
     "output_type": "stream",
     "text": [
      "origin\thttps://github.com/juanqenk/gitstarted.git (fetch)\n",
      "origin\thttps://github.com/juanqenk/gitstarted.git (push)\n"
     ]
    }
   ],
   "source": [
    "git remote -v"
   ]
  },
  {
   "cell_type": "markdown",
   "metadata": {},
   "source": [
    "Como no hemos creado ninguna rama, estamos en la rama master. En ella hemos hecho unos cambios que ya se han guardado en nuestro repositorio local, pero no en nuestro repositorio remoto. Para hacer esto basta con invocar el siguiente comando:     \n",
    "    \n",
    "    git push origin master\n",
    "    \n",
    "Ya tenéis los primeros cambios en vuestro repositorio remoto.    \n",
    "\n",
    "Si queréis hacer o deshacer el camino que estamos siguiendo tened en cuenta el siguiente diagrama:    \n",
    "\n",
    "![](1.png)"
   ]
  },
  {
   "cell_type": "code",
   "execution_count": 3,
   "metadata": {},
   "outputs": [
    {
     "name": "stdout",
     "output_type": "stream",
     "text": [
      "En la rama master\n",
      "nothing to commit, working tree clean\n"
     ]
    }
   ],
   "source": [
    "git status"
   ]
  },
  {
   "cell_type": "markdown",
   "metadata": {},
   "source": [
    "Dentro del directorio de trabajo he creado nuestro programa para viajar en el tiempo. "
   ]
  },
  {
   "cell_type": "code",
   "execution_count": 8,
   "metadata": {},
   "outputs": [
    {
     "name": "stdout",
     "output_type": "stream",
     "text": [
      "README.md  timetravel.py\n"
     ]
    }
   ],
   "source": [
    "ls"
   ]
  },
  {
   "cell_type": "code",
   "execution_count": 9,
   "metadata": {
    "scrolled": true
   },
   "outputs": [
    {
     "name": "stdout",
     "output_type": "stream",
     "text": [
      "Estimado viajero en el tiempo, gracias por confiar en TimeTraveler para deshacer sus errores del pasado.\n",
      "Actualmente usted está en Tue Jun 20 19:51:35 2017\n",
      "Abrochense los cinturones. Usted va a viajar al día 28 - 6 - 2009\n",
      "Done!\n",
      "Bienvenido al pasado, esperamos que pase un buen rato. \n"
     ]
    }
   ],
   "source": [
    "python timetravel.py"
   ]
  },
  {
   "cell_type": "markdown",
   "metadata": {},
   "source": [
    "¡Funciona! Genial. Esto del pasado es una pasada. Creo que nos divertiremos aquí. Antes de ir a la fiesta dejadme que guarde los cambios. "
   ]
  },
  {
   "cell_type": "code",
   "execution_count": 10,
   "metadata": {
    "collapsed": true
   },
   "outputs": [],
   "source": [
    "git add ."
   ]
  },
  {
   "cell_type": "code",
   "execution_count": 11,
   "metadata": {},
   "outputs": [
    {
     "name": "stdout",
     "output_type": "stream",
     "text": [
      "En la rama master\n",
      "Cambios para hacer commit:\n",
      "  (use «git reset HEAD <archivo>...» para sacar del stage)\n",
      "\n",
      "\t\u001b[32mborrado:       hola.py\u001b[m\n",
      "\t\u001b[32mnuevo archivo: timetravel.py\u001b[m\n",
      "\n"
     ]
    }
   ],
   "source": [
    "git status"
   ]
  },
  {
   "cell_type": "code",
   "execution_count": 12,
   "metadata": {
    "scrolled": true
   },
   "outputs": [
    {
     "name": "stdout",
     "output_type": "stream",
     "text": [
      "[master 60787ef] Añadido un archivo que permite asistir a la fiesta de viajeros en el tiempo de Hawking.\n",
      " 2 files changed, 43 insertions(+), 2 deletions(-)\n",
      " delete mode 100644 hola.py\n",
      " create mode 100644 timetravel.py\n"
     ]
    }
   ],
   "source": [
    "git commit -m 'Añadido un archivo que permite asistir a la fiesta de viajeros en el tiempo de Hawking.'"
   ]
  },
  {
   "cell_type": "code",
   "execution_count": 13,
   "metadata": {},
   "outputs": [
    {
     "name": "stdout",
     "output_type": "stream",
     "text": [
      "En la rama master\n",
      "nothing to commit, working tree clean\n"
     ]
    }
   ],
   "source": [
    "git status"
   ]
  },
  {
   "cell_type": "markdown",
   "metadata": {},
   "source": [
    "La fiesta no ha sido un éxito de público pero Stephen y yo lo hemos pasado un buen rato jugando al scrabble. En realidad, no vino nadie más. Espero que gente divertida siga este tutorial en el futuro y se sume a la fiesta. Adjunto documento gráfico (yo soy quién hace la foto).    \n",
    "\n",
    "![](2.jpg)"
   ]
  },
  {
   "cell_type": "markdown",
   "metadata": {},
   "source": [
    "Es hora de volver, se hace tarde y los genios necesitan descanso. También le vendrá bien un sueñecito a S.H.    \n",
    "\n",
    "Desgraciadamente se me olvidó programar el regreso al presente. ¡Que desafortunado inconveniente! El bueno de Stephen me ha dejado su ordenador de a bordo. No quiero estropear mi programa de viajes en el tiempo pero debo modificarlo. Lo mejor será crear una rama donde podré añadir esta característica, y si funciona, fusionarla con el programa principal.    \n",
    "\n",
    "Podemos crear la rama con:"
   ]
  },
  {
   "cell_type": "code",
   "execution_count": 14,
   "metadata": {
    "collapsed": true
   },
   "outputs": [],
   "source": [
    "git branch rama"
   ]
  },
  {
   "cell_type": "markdown",
   "metadata": {},
   "source": [
    "y pasar a la rama creada con: "
   ]
  },
  {
   "cell_type": "code",
   "execution_count": 15,
   "metadata": {},
   "outputs": [
    {
     "name": "stdout",
     "output_type": "stream",
     "text": [
      "Switched to branch 'rama'\n"
     ]
    }
   ],
   "source": [
    "git checkout rama"
   ]
  },
  {
   "cell_type": "code",
   "execution_count": 16,
   "metadata": {},
   "outputs": [
    {
     "name": "stdout",
     "output_type": "stream",
     "text": [
      "  master\u001b[m\n",
      "* \u001b[32mrama\u001b[m\n",
      "  \u001b[31mremotes/origin/master\u001b[m\n"
     ]
    }
   ],
   "source": [
    "git branch -a"
   ]
  },
  {
   "cell_type": "markdown",
   "metadata": {},
   "source": [
    "El comando anterior nos da una lista con todas las ramas que tenemos. Se muestra con un asterisco la rama activa.    \n",
    "\n",
    "Antes que mi anfitrión se impaciente voy a crear un script simple para volver al presente. "
   ]
  },
  {
   "cell_type": "code",
   "execution_count": 17,
   "metadata": {
    "collapsed": true
   },
   "outputs": [],
   "source": [
    "touch backtothefuture.py\n",
    "gedit backtothefuture.py"
   ]
  },
  {
   "cell_type": "markdown",
   "metadata": {},
   "source": [
    "Es el momento de partir. "
   ]
  },
  {
   "cell_type": "code",
   "execution_count": 18,
   "metadata": {
    "scrolled": true
   },
   "outputs": [
    {
     "name": "stdout",
     "output_type": "stream",
     "text": [
      "Estimado viajero en el tiempo, gracias por confiar en TimeTraveler para volver al presente.\n",
      "Esperamos que no haya evitado que sus padres se conozcan. \n",
      "Abrochense los cinturones. Usted va a viajar al día Tue Jun 20 20:19:01 2017\n",
      "Done!\n",
      "Bienvenido al presente, le echabamos de menos. \n"
     ]
    }
   ],
   "source": [
    "python backtothefuture.py"
   ]
  },
  {
   "cell_type": "markdown",
   "metadata": {},
   "source": [
    "Parece que todo funciona correctamente. Guardaré los cambios realizados en esta rama y posteriormente uniré esta con la rama principal. "
   ]
  },
  {
   "cell_type": "code",
   "execution_count": 19,
   "metadata": {},
   "outputs": [
    {
     "name": "stdout",
     "output_type": "stream",
     "text": [
      "En la rama rama\n",
      "Archivos sin seguimiento:\n",
      "  (use «git add <archivo>...» para incluir en lo que se ha de confirmar)\n",
      "\n",
      "\t\u001b[31mbacktothefuture.py\u001b[m\n",
      "\n",
      "no se ha agregado nada al commit pero existen archivos sin seguimiento (use «git add» para darle seguimiento)\n"
     ]
    }
   ],
   "source": [
    "git status"
   ]
  },
  {
   "cell_type": "code",
   "execution_count": 20,
   "metadata": {
    "scrolled": true
   },
   "outputs": [
    {
     "name": "stdout",
     "output_type": "stream",
     "text": [
      "[rama d42b543] Añado como volver al presente en la rama\n",
      " 1 file changed, 25 insertions(+)\n",
      " create mode 100644 backtothefuture.py\n"
     ]
    }
   ],
   "source": [
    "git add .\n",
    "git commit -m 'Añado como volver al presente en la rama'"
   ]
  },
  {
   "cell_type": "markdown",
   "metadata": {},
   "source": [
    "Ahora puedo volver a la rama principal. "
   ]
  },
  {
   "cell_type": "code",
   "execution_count": 21,
   "metadata": {},
   "outputs": [
    {
     "name": "stdout",
     "output_type": "stream",
     "text": [
      "Switched to branch 'master'\n"
     ]
    }
   ],
   "source": [
    "git checkout master"
   ]
  },
  {
   "cell_type": "code",
   "execution_count": 22,
   "metadata": {
    "scrolled": true
   },
   "outputs": [
    {
     "name": "stdout",
     "output_type": "stream",
     "text": [
      "En la rama master\n",
      "nothing to commit, working tree clean\n"
     ]
    }
   ],
   "source": [
    "git status"
   ]
  },
  {
   "cell_type": "markdown",
   "metadata": {},
   "source": [
    "Podemos comprobar que no existe la forma de volver al presente, y no solo porque no se puede ir al presente desde el presente. Ocurre que los cambios los hicimos en la otra rama. "
   ]
  },
  {
   "cell_type": "code",
   "execution_count": 23,
   "metadata": {},
   "outputs": [
    {
     "name": "stdout",
     "output_type": "stream",
     "text": [
      "python: can't open file 'backtothefuture.py': [Errno 2] No such file or directory\n"
     ]
    },
    {
     "ename": "",
     "evalue": "2",
     "output_type": "error",
     "traceback": []
    }
   ],
   "source": [
    "python backtothefuture.py"
   ]
  },
  {
   "cell_type": "markdown",
   "metadata": {},
   "source": [
    "Sin embargo desde la rama principal podemos fusionar las demás ramas. "
   ]
  },
  {
   "cell_type": "code",
   "execution_count": 25,
   "metadata": {
    "scrolled": true
   },
   "outputs": [
    {
     "name": "stdout",
     "output_type": "stream",
     "text": [
      "Updating 60787ef..d42b543\n",
      "Fast-forward\n",
      " backtothefuture.py | 25 \u001b[32m+++++++++++++++++++++++++\u001b[m\n",
      " 1 file changed, 25 insertions(+)\n",
      " create mode 100644 backtothefuture.py\n"
     ]
    }
   ],
   "source": [
    "git merge rama"
   ]
  },
  {
   "cell_type": "markdown",
   "metadata": {},
   "source": [
    "Y podemos viajar al presente desde el presente. "
   ]
  },
  {
   "cell_type": "code",
   "execution_count": 26,
   "metadata": {},
   "outputs": [
    {
     "name": "stdout",
     "output_type": "stream",
     "text": [
      "Estimado viajero en el tiempo, gracias por confiar en TimeTraveler para volver al presente.\n",
      "Esperamos que no haya evitado que sus padres se conozcan. \n",
      "Abrochense los cinturones. Usted va a viajar al día Tue Jun 20 20:28:21 2017\n",
      "Done!\n",
      "Bienvenido al presente, le echabamos de menos. \n"
     ]
    }
   ],
   "source": [
    "python backtothefuture.py"
   ]
  },
  {
   "cell_type": "code",
   "execution_count": 27,
   "metadata": {},
   "outputs": [
    {
     "name": "stdout",
     "output_type": "stream",
     "text": [
      "En la rama master\n",
      "nothing to commit, working tree clean\n"
     ]
    }
   ],
   "source": [
    "git status"
   ]
  },
  {
   "cell_type": "markdown",
   "metadata": {},
   "source": [
    "Si en algún momento queréis consultar todos los cambios que habéis hecho, solo tenéis que hacer: \n",
    "    \n",
    "    git log"
   ]
  },
  {
   "cell_type": "markdown",
   "metadata": {},
   "source": [
    "Y como hemos fusionado la rama con éxito, podemos borrarla sin problema. "
   ]
  },
  {
   "cell_type": "code",
   "execution_count": 29,
   "metadata": {},
   "outputs": [
    {
     "name": "stdout",
     "output_type": "stream",
     "text": [
      "Eliminada la rama rama (era d42b543)\n"
     ]
    }
   ],
   "source": [
    "git branch -d rama"
   ]
  },
  {
   "cell_type": "code",
   "execution_count": 30,
   "metadata": {},
   "outputs": [
    {
     "name": "stdout",
     "output_type": "stream",
     "text": [
      "* \u001b[32mmaster\u001b[m\n",
      "  \u001b[31mremotes/origin/master\u001b[m\n"
     ]
    }
   ],
   "source": [
    "git branch -a"
   ]
  },
  {
   "cell_type": "markdown",
   "metadata": {
    "collapsed": true
   },
   "source": [
    "Gracias por llegar conmigo al final de este viaje. Os mando un saludo de vuestro yo del pasado. "
   ]
  }
 ],
 "metadata": {
  "kernelspec": {
   "display_name": "Bash",
   "language": "bash",
   "name": "bash"
  },
  "language_info": {
   "codemirror_mode": "shell",
   "file_extension": ".sh",
   "mimetype": "text/x-sh",
   "name": "bash"
  }
 },
 "nbformat": 4,
 "nbformat_minor": 2
}
